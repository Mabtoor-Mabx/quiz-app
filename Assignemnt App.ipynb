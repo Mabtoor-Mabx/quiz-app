{
 "cells": [
  {
   "cell_type": "code",
   "execution_count": null,
   "metadata": {},
   "outputs": [],
   "source": []
  },
  {
   "cell_type": "code",
   "execution_count": 7,
   "metadata": {},
   "outputs": [
    {
     "name": "stdout",
     "output_type": "stream",
     "text": [
      "Enter Your Name :Rapper\n",
      "Hey! Rapper Welcome To This Quiz!\n",
      "\n",
      "Which one is Programming Language?\n",
      "a) HTML\n",
      "b)CSS\n",
      "c) BOOTSTARP\n",
      "d) C++\n",
      "\n",
      "Enter Your Answer!a\n",
      "Alas! You are Wrong! \n",
      "\n",
      "Which Season story is Based on Robbery?\n",
      "a) Money Hiest\n",
      "b) 13 Reasons Why\n",
      "c) Messiah\n",
      "d) Stranger Things\n",
      "\n",
      "Enter Your Answer!a\n",
      "Congo! You are Right!\n",
      "\n",
      "Quaid e Azam Died in\n",
      "a) 1946\n",
      "b)1947\n",
      "c) 1948\n",
      "d) 1949\n",
      "\n",
      "Enter Your Answer!c\n",
      "Congo! You are Right!\n"
     ]
    }
   ],
   "source": [
    "q1 = '''\n",
    "Which one is Programming Language?\n",
    "a) HTML\n",
    "b)CSS\n",
    "c) BOOTSTARP\n",
    "d) C++\n",
    "'''\n",
    "q2 = '''\n",
    "Which Season story is Based on Robbery?\n",
    "a) Money Hiest\n",
    "b) 13 Reasons Why\n",
    "c) Messiah\n",
    "d) Stranger Things\n",
    "'''\n",
    "\n",
    "q3 = '''\n",
    "Quaid e Azam Died in\n",
    "a) 1946\n",
    "b)1947\n",
    "c) 1948\n",
    "d) 1949\n",
    "'''\n",
    "\n",
    "\n",
    "questions = {\n",
    "    q1:\"d\",\n",
    "    q2: \"a\",\n",
    "    q3: \"c\",\n",
    "}\n",
    "\n",
    "\n",
    "name = input(\"Enter Your Name :\")\n",
    "print( \"Hey!\", name , \"Welcome To This Quiz!\")\n",
    "\n",
    "for i in questions:\n",
    "    print(i)\n",
    "    ans = input(\"Enter Your Answer!\")\n",
    "    if ans == questions[i]:\n",
    "        print(\"Congo! You are Right!\")\n",
    "    else:\n",
    "            print(\"Alas! You are Wrong! \")\n"
   ]
  },
  {
   "cell_type": "code",
   "execution_count": null,
   "metadata": {},
   "outputs": [],
   "source": []
  },
  {
   "cell_type": "code",
   "execution_count": null,
   "metadata": {},
   "outputs": [],
   "source": []
  }
 ],
 "metadata": {
  "kernelspec": {
   "display_name": "Python 3",
   "language": "python",
   "name": "python3"
  },
  "language_info": {
   "codemirror_mode": {
    "name": "ipython",
    "version": 3
   },
   "file_extension": ".py",
   "mimetype": "text/x-python",
   "name": "python",
   "nbconvert_exporter": "python",
   "pygments_lexer": "ipython3",
   "version": "3.7.4"
  }
 },
 "nbformat": 4,
 "nbformat_minor": 2
}
